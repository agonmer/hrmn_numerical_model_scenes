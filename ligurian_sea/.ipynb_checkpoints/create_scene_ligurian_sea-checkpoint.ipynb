{
 "cells": [
  {
   "cell_type": "code",
   "execution_count": 1,
   "id": "50712341",
   "metadata": {},
   "outputs": [],
   "source": [
    "# Read the numerical model output, make some maps to check the conditions, crop the fields of interest in the areas\n",
    "# of interest and save them in a netcdf file."
   ]
  },
  {
   "cell_type": "code",
   "execution_count": 3,
   "id": "b544813a",
   "metadata": {},
   "outputs": [],
   "source": [
    "import numpy as np\n",
    "import matplotlib.pyplot as plt\n",
    "import xarray as xr\n",
    "import pandas as pd"
   ]
  },
  {
   "cell_type": "code",
   "execution_count": 34,
   "id": "79ea70a7",
   "metadata": {},
   "outputs": [],
   "source": [
    "# Set the instant of interest as a wrfout string ('YYYY-MM-DD_hh:mm:ss').\n",
    "str_instant = '2014-10-07T12:00:00'\n",
    "\n",
    "# Set the paths and the file names of the (coupled) ocean and atmospheric model outputs.\n",
    "path2atm = '/mnt/storage_unimib/agostino/genoa2014/3CPLD/'\n",
    "path2oce = '/mnt/storage_unimib/agostino/genoa2014/3CPLD/CPLD_HIS/'\n",
    "\n",
    "atm_filename = path2atm + 'wrfout_d01_' + str_instant\n",
    "oce_filename = path2oce + 'roms_cpld_his.0020.nc' \n",
    "# If str_instant is after ... select the roms_cpld_his.0025.nc file"
   ]
  },
  {
   "cell_type": "code",
   "execution_count": 35,
   "id": "34ee0a0a",
   "metadata": {},
   "outputs": [
    {
     "data": {
      "text/plain": [
       "array(['2014-09-15T00:00:00', '2014-10-06T00:00:00',\n",
       "       '2014-10-06T12:00:00', '2014-10-07T00:00:00',\n",
       "       '2014-10-07T12:00:00'], dtype='datetime64[s]')"
      ]
     },
     "execution_count": 35,
     "metadata": {},
     "output_type": "execute_result"
    }
   ],
   "source": [
    "ds_oce = xr.open_dataset(oce_filename)\n",
    "\n",
    "time0 = np.datetime64('2014-09-15T00:00:00') # Time of the initialization\n",
    "time_oce = time0 + ds_oce.time.values.astype('timedelta64[s]')\n",
    "time_oce"
   ]
  },
  {
   "cell_type": "code",
   "execution_count": 39,
   "id": "63d8662f",
   "metadata": {},
   "outputs": [
    {
     "data": {
      "text/plain": [
       "array([1944000,  129600,   86400,   43200,       0],\n",
       "      dtype='timedelta64[s]')"
      ]
     },
     "execution_count": 39,
     "metadata": {},
     "output_type": "execute_result"
    }
   ],
   "source": [
    "prova = np.datetime64(str_instant)\n",
    "prova - time_oce"
   ]
  },
  {
   "cell_type": "code",
   "execution_count": 31,
   "id": "d5fbd2ec",
   "metadata": {},
   "outputs": [
    {
     "data": {
      "text/plain": [
       "array([      0, 1814400, 1857600, 1900800, 1944000],\n",
       "      dtype='timedelta64[s]')"
      ]
     },
     "execution_count": 31,
     "metadata": {},
     "output_type": "execute_result"
    }
   ],
   "source": []
  },
  {
   "cell_type": "code",
   "execution_count": null,
   "id": "4d021a82",
   "metadata": {},
   "outputs": [],
   "source": []
  }
 ],
 "metadata": {
  "kernelspec": {
   "display_name": "Python 3",
   "language": "python",
   "name": "python3"
  },
  "language_info": {
   "codemirror_mode": {
    "name": "ipython",
    "version": 3
   },
   "file_extension": ".py",
   "mimetype": "text/x-python",
   "name": "python",
   "nbconvert_exporter": "python",
   "pygments_lexer": "ipython3",
   "version": "3.9.2"
  }
 },
 "nbformat": 4,
 "nbformat_minor": 5
}
